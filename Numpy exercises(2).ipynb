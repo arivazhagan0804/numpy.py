{
 "cells": [
  {
   "cell_type": "code",
   "execution_count": 2,
   "id": "fa03ea40-ba41-444c-95fd-57beb3c65c99",
   "metadata": {},
   "outputs": [
    {
     "name": "stdout",
     "output_type": "stream",
     "text": [
      "Array  is: [1 2 3]\n",
      "<class 'numpy.ndarray'>\n"
     ]
    }
   ],
   "source": [
    "import numpy as np\n",
    "lst=[1,2,3]\n",
    "arr=np.array(lst)\n",
    "print('Array  is:',arr)\n",
    "print(type(arr))\n"
   ]
  },
  {
   "cell_type": "code",
   "execution_count": 5,
   "id": "f147d976-6bd1-4ef1-b74b-e5867bd449f3",
   "metadata": {},
   "outputs": [
    {
     "name": "stdout",
     "output_type": "stream",
     "text": [
      "[1. 1. 1. 1. 1.]\n"
     ]
    }
   ],
   "source": [
    "once=np.ones(5)\n",
    "print(once)"
   ]
  },
  {
   "cell_type": "code",
   "execution_count": 7,
   "id": "12623e26-94d4-4c43-8753-d2186532e1b8",
   "metadata": {},
   "outputs": [
    {
     "data": {
      "text/plain": [
       "array([[1., 1., 1.],\n",
       "       [1., 1., 1.]])"
      ]
     },
     "execution_count": 7,
     "metadata": {},
     "output_type": "execute_result"
    }
   ],
   "source": [
    "a=np.ones((2,3))\n",
    "a\n"
   ]
  },
  {
   "cell_type": "code",
   "execution_count": 8,
   "id": "c1e5649b-b221-45fc-90d9-35a3d0da6a26",
   "metadata": {},
   "outputs": [
    {
     "data": {
      "text/plain": [
       "array([[1, 1, 1],\n",
       "       [1, 1, 1]])"
      ]
     },
     "execution_count": 8,
     "metadata": {},
     "output_type": "execute_result"
    }
   ],
   "source": [
    "a=np.ones((2,3),dtype=int)\n",
    "a"
   ]
  },
  {
   "cell_type": "code",
   "execution_count": 11,
   "id": "4420ea14-809b-46be-9f6c-10e6cb5e88d5",
   "metadata": {},
   "outputs": [
    {
     "data": {
      "text/plain": [
       "array([[4., 0., 0.],\n",
       "       [0., 4., 0.],\n",
       "       [0., 0., 4.]])"
      ]
     },
     "execution_count": 11,
     "metadata": {},
     "output_type": "execute_result"
    }
   ],
   "source": [
    "dig=np.eye(3)*4\n",
    "dig"
   ]
  },
  {
   "cell_type": "code",
   "execution_count": 12,
   "id": "f41fe496-0613-47ab-a04c-379643560a88",
   "metadata": {},
   "outputs": [
    {
     "data": {
      "text/plain": [
       "array([0, 1, 2, 3, 4, 5, 6, 7, 8, 9])"
      ]
     },
     "execution_count": 12,
     "metadata": {},
     "output_type": "execute_result"
    }
   ],
   "source": [
    "a=np.arange(10)\n",
    "a"
   ]
  },
  {
   "cell_type": "code",
   "execution_count": 13,
   "id": "ea714531-180e-499e-9f9f-c262ad787a95",
   "metadata": {},
   "outputs": [
    {
     "data": {
      "text/plain": [
       "array([12, 14, 16, 18, 20, 22, 24])"
      ]
     },
     "execution_count": 13,
     "metadata": {},
     "output_type": "execute_result"
    }
   ],
   "source": [
    "even=np.arange(12,26,2)\n",
    "even"
   ]
  },
  {
   "cell_type": "code",
   "execution_count": 14,
   "id": "15218c6b-972d-43ea-babe-463a7b8f5180",
   "metadata": {},
   "outputs": [
    {
     "data": {
      "text/plain": [
       "array([2.        , 2.28571429, 2.57142857, 2.85714286, 3.14285714,\n",
       "       3.42857143, 3.71428571, 4.        ])"
      ]
     },
     "execution_count": 14,
     "metadata": {},
     "output_type": "execute_result"
    }
   ],
   "source": [
    "a=np.linspace(2,4,8)\n",
    "a"
   ]
  },
  {
   "cell_type": "code",
   "execution_count": 15,
   "id": "a0fcc714-6bd6-40e9-b0ef-5a7d84c26aff",
   "metadata": {},
   "outputs": [
    {
     "data": {
      "text/plain": [
       "array([[5, 9, 8, 1, 8],\n",
       "       [3, 8, 0, 4, 1],\n",
       "       [8, 0, 4, 7, 5]], dtype=int32)"
      ]
     },
     "execution_count": 15,
     "metadata": {},
     "output_type": "execute_result"
    }
   ],
   "source": [
    "from numpy import random as rd\n",
    "rand=rd.randint(10,size=(3,5))\n",
    "rand"
   ]
  },
  {
   "cell_type": "code",
   "execution_count": 18,
   "id": "53bb2c7c-b371-4ba0-8edc-404e391ea0bf",
   "metadata": {},
   "outputs": [
    {
     "data": {
      "text/plain": [
       "array([1, 1, 4, 3, 2], dtype=int32)"
      ]
     },
     "execution_count": 18,
     "metadata": {},
     "output_type": "execute_result"
    }
   ],
   "source": [
    "rand=rd.randint(1,5,5)\n",
    "rand"
   ]
  },
  {
   "cell_type": "code",
   "execution_count": 20,
   "id": "80ec0aeb-7311-46f5-a4e8-7ee630ad13e9",
   "metadata": {},
   "outputs": [
    {
     "name": "stdout",
     "output_type": "stream",
     "text": [
      "[ 0  1  2  3  4  5  6  7  8  9 10]\n",
      "[  0   1   4   9  16  25  36  49  64  81 100]\n"
     ]
    }
   ],
   "source": [
    "a=np.arange(11)\n",
    "print(a)\n",
    "b=a**2\n",
    "print(b)"
   ]
  },
  {
   "cell_type": "code",
   "execution_count": 21,
   "id": "c15d7415-2471-4395-bc51-9aa9e3a1ae22",
   "metadata": {},
   "outputs": [
    {
     "name": "stdout",
     "output_type": "stream",
     "text": [
      "Original array is: [ 0  1  2  3  4  5  6  7  8  9 10 11 12 13 14]\n",
      "******************************\n",
      "Modified array is: [99 12 13  3  4  5  6  7  8  9 10 11 12 13 14]\n"
     ]
    }
   ],
   "source": [
    "arr_1=np.arange(15)\n",
    "print('Original array is:',arr_1)\n",
    "print('*'*30)\n",
    "arr_2=arr_1.copy()\n",
    "arr_2[0]=99\n",
    "arr_2[1]=12\n",
    "arr_2[2]=13\n",
    "print('Modified array is:',arr_2)\n"
   ]
  },
  {
   "cell_type": "code",
   "execution_count": 3,
   "id": "9e43eea2-bcd6-4aed-8b9f-9eae57173934",
   "metadata": {},
   "outputs": [
    {
     "name": "stdout",
     "output_type": "stream",
     "text": [
      "[[ 0  1  2  3  4]\n",
      " [ 5  6  7  8  9]\n",
      " [10 11 12 13 14]\n",
      " [15 16 17 18 19]\n",
      " [20 21 22 23 24]]\n"
     ]
    }
   ],
   "source": [
    "import numpy as np\n",
    "arr_2D=np.arange(25).reshape(5,5)\n",
    "print(arr_2D)"
   ]
  },
  {
   "cell_type": "code",
   "execution_count": 5,
   "id": "8278b162-b51c-4a38-8199-362f54ef5fd0",
   "metadata": {},
   "outputs": [
    {
     "name": "stdout",
     "output_type": "stream",
     "text": [
      "[[ 7  8  9]\n",
      " [12 13 14]]\n"
     ]
    }
   ],
   "source": [
    "print(arr_2D[1:3,2:])\n"
   ]
  },
  {
   "cell_type": "code",
   "execution_count": null,
   "id": "e0dd1011-a16d-41e7-ac18-6d450c41f9cc",
   "metadata": {},
   "outputs": [],
   "source": []
  }
 ],
 "metadata": {
  "kernelspec": {
   "display_name": "Python [conda env:base] *",
   "language": "python",
   "name": "conda-base-py"
  },
  "language_info": {
   "codemirror_mode": {
    "name": "ipython",
    "version": 3
   },
   "file_extension": ".py",
   "mimetype": "text/x-python",
   "name": "python",
   "nbconvert_exporter": "python",
   "pygments_lexer": "ipython3",
   "version": "3.12.7"
  }
 },
 "nbformat": 4,
 "nbformat_minor": 5
}
